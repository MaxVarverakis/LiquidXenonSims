{
 "cells": [
  {
   "cell_type": "code",
   "execution_count": 1,
   "metadata": {},
   "outputs": [],
   "source": [
    "from xml.etree.ElementInclude import include\n",
    "import pandas as pd\n",
    "import numpy as np\n",
    "import matplotlib.pyplot as plt\n",
    "import matplotlib as mpl\n",
    "from mpl_toolkits import mplot3d"
   ]
  },
  {
   "cell_type": "code",
   "execution_count": 3,
   "metadata": {},
   "outputs": [],
   "source": [
    "df4 = pd.read_csv('../test/out4_nt_e+.csv', header = 7, names = ['Energy [MeV]', 'Traverse Width [mm]', 'Angle [rad]', 'Rotational Angle [rad]']).to_numpy()\n",
    "p4 = pd.read_csv('../test/out4_nt_M4V.csv', header = 8, names = ['Px', 'Py', 'Pz', 'E [MeV]', 'Minkowski Norm']).to_numpy()"
   ]
  },
  {
   "cell_type": "code",
   "execution_count": 36,
   "metadata": {},
   "outputs": [],
   "source": [
    "def expectationValue2(x):\n",
    "        return np.mean(np.square(x)) - np.square(np.mean(x))"
   ]
  },
  {
   "cell_type": "code",
   "execution_count": 49,
   "metadata": {},
   "outputs": [],
   "source": [
    "E = df4[:,0]\n",
    "ib = E > 20\n",
    "\n",
    "TW = df4[ib,1]\n",
    "R = df4[ib,3]\n",
    "pX = p4[ib,0]\n",
    "pY = p4[ib,1]\n",
    "pZ = p4[ib,2]\n",
    "pE = p4[ib,3]\n",
    "E0 = .511"
   ]
  },
  {
   "cell_type": "code",
   "execution_count": 50,
   "metadata": {},
   "outputs": [
    {
     "name": "stdout",
     "output_type": "stream",
     "text": [
      "Emittance : 28.448478109877275\n"
     ]
    }
   ],
   "source": [
    "x = np.multiply(TW, np.cos(R))\n",
    "X2 = expectationValue2(x)\n",
    "pX2 = expectationValue2(pX)\n",
    "XpX = np.mean(np.multiply(x, pX)) - np.mean(x) * np.mean(pX)\n",
    "# print(X2, pX2, XpX)\n",
    "emittance = 1 / E0 * np.sqrt(X2 * pX2 - XpX ** 2)\n",
    "print(f'Emittance : {emittance}')"
   ]
  },
  {
   "cell_type": "code",
   "execution_count": 44,
   "metadata": {},
   "outputs": [],
   "source": [
    "npX2 = np.var(x)"
   ]
  },
  {
   "cell_type": "code",
   "execution_count": 46,
   "metadata": {},
   "outputs": [
    {
     "name": "stdout",
     "output_type": "stream",
     "text": [
      "16.6583517543175 16.6583517543175\n"
     ]
    }
   ],
   "source": [
    "print(npX2, X2)"
   ]
  },
  {
   "cell_type": "code",
   "execution_count": 45,
   "metadata": {},
   "outputs": [
    {
     "data": {
      "image/png": "[encoded data removed]",
      "text/plain": [
       "<Figure size 432x288 with 1 Axes>"
      ]
     },
     "metadata": {
      "needs_background": "light"
     },
     "output_type": "display_data"
    }
   ],
   "source": [
    "plt.scatter(npX2, X2)\n",
    "plt.show()"
   ]
  },
  {
   "cell_type": "code",
   "execution_count": 5,
   "metadata": {},
   "outputs": [
    {
     "data": {
      "text/plain": [
       "array([[-5.39562e+00, -8.58890e+00,  1.79162e+01,  2.05945e+01,\n",
       "         5.10999e-01],\n",
       "       [ 3.22778e+01, -1.41866e+01,  5.17349e+02,  5.18550e+02,\n",
       "         5.10999e-01],\n",
       "       [ 1.10796e+00,  9.35299e+00,  2.83209e+01,  2.98503e+01,\n",
       "         5.10999e-01],\n",
       "       ...,\n",
       "       [-1.37327e+00, -1.69918e+00,  2.69874e+00,  3.50962e+00,\n",
       "         5.10999e-01],\n",
       "       [ 4.75062e+00,  2.77110e+00,  4.26988e+01,  4.30546e+01,\n",
       "         5.10999e-01],\n",
       "       [ 2.59836e+00, -3.82051e+00,  7.17971e+01,  7.19475e+01,\n",
       "         5.10999e-01]])"
      ]
     },
     "execution_count": 5,
     "metadata": {},
     "output_type": "execute_result"
    }
   ],
   "source": [
    "p4"
   ]
  },
  {
   "cell_type": "code",
   "execution_count": 6,
   "metadata": {},
   "outputs": [
    {
     "data": {
      "text/plain": [
       "(array([    0.,     0.,     0.,     0.,     0., 98052.,     0.,     0.,\n",
       "            0.,     0.]),\n",
       " array([0.010999, 0.110999, 0.210999, 0.310999, 0.410999, 0.510999,\n",
       "        0.610999, 0.710999, 0.810999, 0.910999, 1.010999]),\n",
       " <BarContainer object of 10 artists>)"
      ]
     },
     "execution_count": 6,
     "metadata": {},
     "output_type": "execute_result"
    },
    {
     "data": {
      "image/png": "[encoded data removed]",
      "text/plain": [
       "<Figure size 432x288 with 1 Axes>"
      ]
     },
     "metadata": {
      "needs_background": "light"
     },
     "output_type": "display_data"
    }
   ],
   "source": [
    "plt.hist(p4[:, 4])"
   ]
  },
  {
   "cell_type": "code",
   "execution_count": 15,
   "metadata": {
    "scrolled": true
   },
   "outputs": [
    {
     "name": "stderr",
     "output_type": "stream",
     "text": [
      "/var/folders/l9/q33h82k16xx50gmpcg10_ymh0000gn/T/ipykernel_47907/2709805655.py:1: RuntimeWarning: invalid value encountered in sqrt\n",
      "  var = np.sqrt(p4[:, 3]**2 - (p4[:,0]**2+p4[:,1]**2+p4[:,2]**2))\n"
     ]
    }
   ],
   "source": [
    "var = np.sqrt(p4[:, 3]**2 - (p4[:,0]**2+p4[:,1]**2+p4[:,2]**2))"
   ]
  },
  {
   "cell_type": "code",
   "execution_count": 25,
   "metadata": {},
   "outputs": [
    {
     "data": {
      "text/plain": [
       "9"
      ]
     },
     "execution_count": 25,
     "metadata": {},
     "output_type": "execute_result"
    }
   ],
   "source": [
    "np.argmax(var)"
   ]
  },
  {
   "cell_type": "code",
   "execution_count": 28,
   "metadata": {},
   "outputs": [
    {
     "name": "stdout",
     "output_type": "stream",
     "text": [
      "[74088 59439 30813 ... 29837 29709 39213]\n"
     ]
    }
   ],
   "source": [
    "idx = np.argsort(var)\n",
    "print(idx)"
   ]
  },
  {
   "cell_type": "code",
   "execution_count": 32,
   "metadata": {},
   "outputs": [
    {
     "name": "stdout",
     "output_type": "stream",
     "text": [
      "0.0063504158037119085\n",
      "nan\n"
     ]
    }
   ],
   "source": [
    "print(var[74088])\n",
    "print(var[39213])"
   ]
  },
  {
   "cell_type": "code",
   "execution_count": 31,
   "metadata": {},
   "outputs": [
    {
     "name": "stdout",
     "output_type": "stream",
     "text": [
      "[-3.78767e+00 -2.72442e-01  8.01146e+02  8.01155e+02  5.10999e-01]\n",
      "[ 5.52180e+00 -1.56725e+01  1.25366e+03  1.25377e+03  5.10999e-01]\n"
     ]
    }
   ],
   "source": [
    "print(p4[74088,:])\n",
    "print(p4[39213,:])"
   ]
  },
  {
   "cell_type": "code",
   "execution_count": 34,
   "metadata": {},
   "outputs": [
    {
     "data": {
      "image/png": "[encoded data removed]",
      "text/plain": [
       "<Figure size 432x288 with 1 Axes>"
      ]
     },
     "metadata": {
      "needs_background": "light"
     },
     "output_type": "display_data"
    }
   ],
   "source": [
    "plt.scatter(np.divide(p4[:,2],p4[:,3]), var)\n",
    "plt.show()"
   ]
  },
  {
   "cell_type": "code",
   "execution_count": 20,
   "metadata": {},
   "outputs": [
    {
     "data": {
      "text/plain": [
       "array([  0.373013,  -1.64314 , 234.517   , 234.523   ,   0.510999])"
      ]
     },
     "execution_count": 20,
     "metadata": {},
     "output_type": "execute_result"
    }
   ],
   "source": [
    "p4[9,:]"
   ]
  },
  {
   "cell_type": "code",
   "execution_count": 26,
   "metadata": {},
   "outputs": [
    {
     "data": {
      "text/plain": [
       "234.52305288981245"
      ]
     },
     "execution_count": 26,
     "metadata": {},
     "output_type": "execute_result"
    }
   ],
   "source": [
    "np.sqrt(p4[9,0]**2+p4[9,1]**2+p4[9,2]**2)"
   ]
  },
  {
   "cell_type": "code",
   "execution_count": 21,
   "metadata": {},
   "outputs": [
    {
     "data": {
      "image/png": "[encoded data removed]",
      "text/plain": [
       "<Figure size 432x288 with 1 Axes>"
      ]
     },
     "metadata": {
      "needs_background": "light"
     },
     "output_type": "display_data"
    }
   ],
   "source": [
    "plt.hist(var, bins = 100)\n",
    "plt.show()"
   ]
  },
  {
   "cell_type": "code",
   "execution_count": null,
   "metadata": {},
   "outputs": [],
   "source": []
  }
 ],
 "metadata": {
  "kernelspec": {
   "display_name": "Python 3 (ipykernel)",
   "language": "python",
   "name": "python3"
  },
  "language_info": {
   "codemirror_mode": {
    "name": "ipython",
    "version": 3
   },
   "file_extension": ".py",
   "mimetype": "text/x-python",
   "name": "python",
   "nbconvert_exporter": "python",
   "pygments_lexer": "ipython3",
   "version": "3.8.11"
  },
  "vscode": {
   "interpreter": {
    "hash": "c90a2d6578da61f0d697674298d56f9a3a0ee0af0dfe34415e556d2174ff052d"
   }
  }
 },
 "nbformat": 4,
 "nbformat_minor": 2
}
